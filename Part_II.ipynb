{
 "cells": [
  {
   "cell_type": "markdown",
   "id": "6b7427e2",
   "metadata": {
    "slideshow": {
     "slide_type": "slide"
    }
   },
   "source": [
    "# Part II - Demographics of Bikers Who Use Ford Bikes\n",
    "# by Sofiyah Olaiwon"
   ]
  },
  {
   "cell_type": "markdown",
   "id": "b8cd7e8e",
   "metadata": {
    "slideshow": {
     "slide_type": "slide"
    }
   },
   "source": [
    "## Investigation Overview\n",
    "\n",
    "> I am interested in the various characteristics of people who use bikes from the Ford GoBike System. I will be making use of the duration of time spent on the bikes in seconds, the longitude and latitude of both the the start and end stations, the user type, member birth year, member gender and bike share for all trips features to conduct my analysis.\n",
    "\n",
    "## Dataset Overview\n",
    "\n",
    "> This document explores a dataset which includes information about individual rides made in a bike-sharing system covering the greater San Francisco Bay area during the month of February."
   ]
  },
  {
   "cell_type": "markdown",
   "id": "dc289744",
   "metadata": {
    "slideshow": {
     "slide_type": "slide"
    }
   },
   "source": [
    "## Insights\n",
    "- 75% of GoBike members are males, 23% are females and 2% belongs to other genders.\n",
    "- A large percentage of GoBike members are subscribers while others are customers and although subscribers constitute more to the data, customers take longer rides on an average than subscribers.\n",
    "- While we have riders with ages ranging from 20 to about 80, a large percentage of bikers fall into the age range of 25 - 45."
   ]
  },
  {
   "cell_type": "code",
   "execution_count": 2,
   "id": "fa143b6f",
   "metadata": {
    "slideshow": {
     "slide_type": "skip"
    }
   },
   "outputs": [],
   "source": [
    "# import all necessary libraries\n",
    "import pandas as pd\n",
    "import numpy as np\n",
    "import matplotlib.pyplot as plt\n",
    "import seaborn as sns"
   ]
  },
  {
   "cell_type": "code",
   "execution_count": 3,
   "id": "1853efcd",
   "metadata": {
    "slideshow": {
     "slide_type": "skip"
    }
   },
   "outputs": [
    {
     "data": {
      "text/html": [
       "<div>\n",
       "<style scoped>\n",
       "    .dataframe tbody tr th:only-of-type {\n",
       "        vertical-align: middle;\n",
       "    }\n",
       "\n",
       "    .dataframe tbody tr th {\n",
       "        vertical-align: top;\n",
       "    }\n",
       "\n",
       "    .dataframe thead th {\n",
       "        text-align: right;\n",
       "    }\n",
       "</style>\n",
       "<table border=\"1\" class=\"dataframe\">\n",
       "  <thead>\n",
       "    <tr style=\"text-align: right;\">\n",
       "      <th></th>\n",
       "      <th>duration_sec</th>\n",
       "      <th>start_time</th>\n",
       "      <th>end_time</th>\n",
       "      <th>start_station_id</th>\n",
       "      <th>start_station_name</th>\n",
       "      <th>start_station_latitude</th>\n",
       "      <th>start_station_longitude</th>\n",
       "      <th>end_station_id</th>\n",
       "      <th>end_station_name</th>\n",
       "      <th>end_station_latitude</th>\n",
       "      <th>end_station_longitude</th>\n",
       "      <th>bike_id</th>\n",
       "      <th>user_type</th>\n",
       "      <th>member_birth_year</th>\n",
       "      <th>member_gender</th>\n",
       "      <th>bike_share_for_all_trip</th>\n",
       "      <th>member_age</th>\n",
       "    </tr>\n",
       "  </thead>\n",
       "  <tbody>\n",
       "    <tr>\n",
       "      <th>0</th>\n",
       "      <td>1585</td>\n",
       "      <td>2019-02-28 23:54:18.549</td>\n",
       "      <td>2019-03-01 00:20:44.074</td>\n",
       "      <td>7</td>\n",
       "      <td>Frank H Ogawa Plaza</td>\n",
       "      <td>37.804562</td>\n",
       "      <td>-122.271738</td>\n",
       "      <td>222</td>\n",
       "      <td>10th Ave at E 15th St</td>\n",
       "      <td>37.792714</td>\n",
       "      <td>-122.248780</td>\n",
       "      <td>4898</td>\n",
       "      <td>Subscriber</td>\n",
       "      <td>1974</td>\n",
       "      <td>Male</td>\n",
       "      <td>Yes</td>\n",
       "      <td>48</td>\n",
       "    </tr>\n",
       "    <tr>\n",
       "      <th>1</th>\n",
       "      <td>1793</td>\n",
       "      <td>2019-02-28 23:49:58.632</td>\n",
       "      <td>2019-03-01 00:19:51.760</td>\n",
       "      <td>93</td>\n",
       "      <td>4th St at Mission Bay Blvd S</td>\n",
       "      <td>37.770407</td>\n",
       "      <td>-122.391198</td>\n",
       "      <td>323</td>\n",
       "      <td>Broadway at Kearny</td>\n",
       "      <td>37.798014</td>\n",
       "      <td>-122.405950</td>\n",
       "      <td>5200</td>\n",
       "      <td>Subscriber</td>\n",
       "      <td>1959</td>\n",
       "      <td>Male</td>\n",
       "      <td>No</td>\n",
       "      <td>63</td>\n",
       "    </tr>\n",
       "    <tr>\n",
       "      <th>2</th>\n",
       "      <td>1147</td>\n",
       "      <td>2019-02-28 23:55:35.104</td>\n",
       "      <td>2019-03-01 00:14:42.588</td>\n",
       "      <td>300</td>\n",
       "      <td>Palm St at Willow St</td>\n",
       "      <td>37.317298</td>\n",
       "      <td>-121.884995</td>\n",
       "      <td>312</td>\n",
       "      <td>San Jose Diridon Station</td>\n",
       "      <td>37.329732</td>\n",
       "      <td>-121.901782</td>\n",
       "      <td>3803</td>\n",
       "      <td>Subscriber</td>\n",
       "      <td>1983</td>\n",
       "      <td>Female</td>\n",
       "      <td>No</td>\n",
       "      <td>39</td>\n",
       "    </tr>\n",
       "    <tr>\n",
       "      <th>3</th>\n",
       "      <td>1615</td>\n",
       "      <td>2019-02-28 23:41:06.766</td>\n",
       "      <td>2019-03-01 00:08:02.756</td>\n",
       "      <td>10</td>\n",
       "      <td>Washington St at Kearny St</td>\n",
       "      <td>37.795393</td>\n",
       "      <td>-122.404770</td>\n",
       "      <td>127</td>\n",
       "      <td>Valencia St at 21st St</td>\n",
       "      <td>37.756708</td>\n",
       "      <td>-122.421025</td>\n",
       "      <td>6329</td>\n",
       "      <td>Subscriber</td>\n",
       "      <td>1989</td>\n",
       "      <td>Male</td>\n",
       "      <td>No</td>\n",
       "      <td>33</td>\n",
       "    </tr>\n",
       "    <tr>\n",
       "      <th>4</th>\n",
       "      <td>1570</td>\n",
       "      <td>2019-02-28 23:41:48.790</td>\n",
       "      <td>2019-03-01 00:07:59.715</td>\n",
       "      <td>10</td>\n",
       "      <td>Washington St at Kearny St</td>\n",
       "      <td>37.795393</td>\n",
       "      <td>-122.404770</td>\n",
       "      <td>127</td>\n",
       "      <td>Valencia St at 21st St</td>\n",
       "      <td>37.756708</td>\n",
       "      <td>-122.421025</td>\n",
       "      <td>6548</td>\n",
       "      <td>Subscriber</td>\n",
       "      <td>1988</td>\n",
       "      <td>Other</td>\n",
       "      <td>No</td>\n",
       "      <td>34</td>\n",
       "    </tr>\n",
       "  </tbody>\n",
       "</table>\n",
       "</div>"
      ],
      "text/plain": [
       "   duration_sec               start_time                 end_time  \\\n",
       "0          1585  2019-02-28 23:54:18.549  2019-03-01 00:20:44.074   \n",
       "1          1793  2019-02-28 23:49:58.632  2019-03-01 00:19:51.760   \n",
       "2          1147  2019-02-28 23:55:35.104  2019-03-01 00:14:42.588   \n",
       "3          1615  2019-02-28 23:41:06.766  2019-03-01 00:08:02.756   \n",
       "4          1570  2019-02-28 23:41:48.790  2019-03-01 00:07:59.715   \n",
       "\n",
       "   start_station_id            start_station_name  start_station_latitude  \\\n",
       "0                 7           Frank H Ogawa Plaza               37.804562   \n",
       "1                93  4th St at Mission Bay Blvd S               37.770407   \n",
       "2               300          Palm St at Willow St               37.317298   \n",
       "3                10    Washington St at Kearny St               37.795393   \n",
       "4                10    Washington St at Kearny St               37.795393   \n",
       "\n",
       "   start_station_longitude  end_station_id          end_station_name  \\\n",
       "0              -122.271738             222     10th Ave at E 15th St   \n",
       "1              -122.391198             323        Broadway at Kearny   \n",
       "2              -121.884995             312  San Jose Diridon Station   \n",
       "3              -122.404770             127    Valencia St at 21st St   \n",
       "4              -122.404770             127    Valencia St at 21st St   \n",
       "\n",
       "   end_station_latitude  end_station_longitude  bike_id   user_type  \\\n",
       "0             37.792714            -122.248780     4898  Subscriber   \n",
       "1             37.798014            -122.405950     5200  Subscriber   \n",
       "2             37.329732            -121.901782     3803  Subscriber   \n",
       "3             37.756708            -122.421025     6329  Subscriber   \n",
       "4             37.756708            -122.421025     6548  Subscriber   \n",
       "\n",
       "   member_birth_year member_gender bike_share_for_all_trip  member_age  \n",
       "0               1974          Male                     Yes          48  \n",
       "1               1959          Male                      No          63  \n",
       "2               1983        Female                      No          39  \n",
       "3               1989          Male                      No          33  \n",
       "4               1988         Other                      No          34  "
      ]
     },
     "execution_count": 3,
     "metadata": {},
     "output_type": "execute_result"
    }
   ],
   "source": [
    "# Load cleaned dataset into a dataframe\n",
    "bikes = pd.read_csv('bike_cleaned.csv')\n",
    "bikes.head()"
   ]
  },
  {
   "cell_type": "markdown",
   "id": "c7c9eb97",
   "metadata": {
    "slideshow": {
     "slide_type": "slide"
    }
   },
   "source": [
    "## Gender Distribution\n",
    "- Based on the data collected which we have analyzed, in the month of february 2019, 75 percent of the members who took rides are male, 23 percent are female and 2 percent identify as other genders.\n"
   ]
  },
  {
   "cell_type": "code",
   "execution_count": 4,
   "id": "95b73e6c",
   "metadata": {
    "slideshow": {
     "slide_type": "subslide"
    }
   },
   "outputs": [
    {
     "data": {
      "image/png": "[encoded data removed]",
      "text/plain": [
       "<Figure size 576x360 with 1 Axes>"
      ]
     },
     "metadata": {
      "needs_background": "light"
     },
     "output_type": "display_data"
    }
   ],
   "source": [
    "# Using pandas plot function \n",
    "plt.figure(figsize = [8, 5])\n",
    "(bikes.member_gender.value_counts(normalize=True)*100).plot(kind='bar')\n",
    "plt.xticks(rotation=0)\n",
    "plt.xlabel('Gender')\n",
    "plt.ylabel('Percentage')\n",
    "plt.title('Percentage of Members Based On Gender');"
   ]
  },
  {
   "cell_type": "markdown",
   "id": "07316f33",
   "metadata": {
    "slideshow": {
     "slide_type": "slide"
    }
   },
   "source": [
    "## Member Type Distribution\n",
    "- A large percentage of GoBike members are subscribers while others are customers and although subscribers constitute more to the data, customers take longer rides on an average than subscribers."
   ]
  },
  {
   "cell_type": "code",
   "execution_count": 5,
   "id": "6c9a64a8",
   "metadata": {
    "slideshow": {
     "slide_type": "skip"
    }
   },
   "outputs": [
    {
     "name": "stdout",
     "output_type": "stream",
     "text": [
      "Subscriber    90.787249\n",
      "Customer       9.212751\n",
      "Name: user_type, dtype: float64\n"
     ]
    }
   ],
   "source": [
    "print(bikes.user_type.value_counts(normalize=True)*100)"
   ]
  },
  {
   "cell_type": "code",
   "execution_count": 6,
   "id": "d6c6a14a",
   "metadata": {
    "slideshow": {
     "slide_type": "subslide"
    }
   },
   "outputs": [
    {
     "data": {
      "image/png": "[encoded data removed]",
      "text/plain": [
       "<Figure size 576x360 with 1 Axes>"
      ]
     },
     "metadata": {
      "needs_background": "light"
     },
     "output_type": "display_data"
    }
   ],
   "source": [
    "# Using pandas plot function \n",
    "plt.figure(figsize = [8, 5])\n",
    "(bikes.user_type.value_counts(normalize=True)*100).plot(kind='bar')\n",
    "plt.xticks(rotation=0)\n",
    "plt.xlabel('User Type')\n",
    "plt.ylabel('Percentage')\n",
    "plt.title('Percentage of Members Based On User Type');"
   ]
  },
  {
   "cell_type": "code",
   "execution_count": 7,
   "id": "4d358360",
   "metadata": {
    "slideshow": {
     "slide_type": "subslide"
    }
   },
   "outputs": [
    {
     "data": {
      "image/png": "[encoded data removed]",
      "text/plain": [
       "<Figure size 576x360 with 1 Axes>"
      ]
     },
     "metadata": {
      "needs_background": "light"
     },
     "output_type": "display_data"
    }
   ],
   "source": [
    "plt.figure(figsize = [8, 5])\n",
    "base_color = sns.color_palette()[0]\n",
    "sns.boxplot(x='user_type', y='duration_sec', data=bikes, color=base_color)\n",
    "plt.xlabel('User Type')\n",
    "plt.ylabel('Duration Of Ride (seconds)')\n",
    "plt.title('Duration Of Bike Rides Based On User Type');"
   ]
  },
  {
   "cell_type": "markdown",
   "id": "63314870",
   "metadata": {
    "slideshow": {
     "slide_type": "slide"
    }
   },
   "source": [
    "## Age Distribution Of GoBike Members\n",
    "- GoBike system have members with ages varying from 20 to over 70 years old. We can also notice from the distribution that a high count of people who use GoBikes range from ages 25 - 45. "
   ]
  },
  {
   "cell_type": "code",
   "execution_count": 8,
   "id": "eea67163",
   "metadata": {
    "slideshow": {
     "slide_type": "subslide"
    }
   },
   "outputs": [
    {
     "data": {
      "image/png": "[encoded data removed]",
      "text/plain": [
       "<Figure size 576x360 with 1 Axes>"
      ]
     },
     "metadata": {
      "needs_background": "light"
     },
     "output_type": "display_data"
    }
   ],
   "source": [
    "plt.figure(figsize = [8, 5])\n",
    "bin_edges = np.arange(20, bikes['member_age'].max()+5, 5)\n",
    "plt.hist(data=bikes, x='member_age', bins=bin_edges)\n",
    "plt.xlabel('Age')\n",
    "plt.ylabel('Frequency')\n",
    "plt.title('Distribution Of Ages Of Bike Users');\n",
    "plt.show()\n"
   ]
  },
  {
   "cell_type": "code",
   "execution_count": 9,
   "id": "8fae7781",
   "metadata": {
    "slideshow": {
     "slide_type": "subslide"
    }
   },
   "outputs": [
    {
     "data": {
      "image/png": "[encoded data removed]",
      "text/plain": [
       "<Figure size 576x360 with 1 Axes>"
      ]
     },
     "metadata": {
      "needs_background": "light"
     },
     "output_type": "display_data"
    }
   ],
   "source": [
    "# Using a boxplot to views the statistical distribution and check for outliers\n",
    "plt.figure(figsize = [8, 5])\n",
    "sns.boxplot(x='member_age', data=bikes)\n",
    "plt.xlabel('Member Age')\n",
    "plt.title('Statistical Distribution Of Members Age')\n",
    "plt.show();"
   ]
  },
  {
   "cell_type": "code",
   "execution_count": 10,
   "id": "5e36e713",
   "metadata": {
    "slideshow": {
     "slide_type": "skip"
    }
   },
   "outputs": [
    {
     "name": "stdout",
     "output_type": "stream",
     "text": [
      "^C\n"
     ]
    }
   ],
   "source": [
    "!jupyter nbconvert Part_II.ipynb --to slides --post serve --no-input --no-prompt"
   ]
  }
 ],
 "metadata": {
  "celltoolbar": "Slideshow",
  "kernelspec": {
   "display_name": "Python 3 (ipykernel)",
   "language": "python",
   "name": "python3"
  },
  "language_info": {
   "codemirror_mode": {
    "name": "ipython",
    "version": 3
   },
   "file_extension": ".py",
   "mimetype": "text/x-python",
   "name": "python",
   "nbconvert_exporter": "python",
   "pygments_lexer": "ipython3",
   "version": "3.9.7"
  }
 },
 "nbformat": 4,
 "nbformat_minor": 5
}
